{
 "cells": [
  {
   "cell_type": "code",
   "execution_count": 2,
   "metadata": {},
   "outputs": [],
   "source": [
    "from docarray import DocumentArray\n",
    "from jina import Flow, Client\n",
    "docs = DocumentArray.from_csv(\" b\")"
   ]
  },
  {
   "cell_type": "code",
   "execution_count": 5,
   "metadata": {},
   "outputs": [
    {
     "data": {
      "text/html": [
       "<pre style=\"white-space:pre;overflow-x:auto;line-height:normal;font-family:Menlo,'DejaVu Sans Mono',consolas,'Courier New',monospace\"><span style=\"color: #808000; text-decoration-color: #808000; font-weight: bold\">UserWarning: install \"ipywidgets\" for Jupyter support</span> <span style=\"color: #000000; text-decoration-color: #000000; font-weight: bold\">(raised from </span>\n",
       "<span style=\"color: #000000; text-decoration-color: #000000; font-weight: bold\">/home/aswin/anaconda3/envs/fast/lib/python3.9/site-packages/rich/live.py:229)</span>\n",
       "</pre>\n"
      ],
      "text/plain": [
       "\u001b[1;33mUserWarning: install \"ipywidgets\" for Jupyter support\u001b[0m \u001b[1;30m(raised from \u001b[0m\n",
       "\u001b[1;30m/home/aswin/anaconda3/envs/fast/lib/python3.9/site-packages/rich/live.py:229)\u001b[0m\n"
      ]
     },
     "metadata": {},
     "output_type": "display_data"
    },
    {
     "data": {
      "text/html": [
       "<pre style=\"white-space:pre;overflow-x:auto;line-height:normal;font-family:Menlo,'DejaVu Sans Mono',consolas,'Courier New',monospace\">\n",
       "</pre>\n"
      ],
      "text/plain": [
       "\n"
      ]
     },
     "metadata": {},
     "output_type": "display_data"
    },
    {
     "data": {
      "text/html": [
       "<pre style=\"white-space:pre;overflow-x:auto;line-height:normal;font-family:Menlo,'DejaVu Sans Mono',consolas,'Courier New',monospace\">\n",
       "</pre>\n"
      ],
      "text/plain": [
       "\n"
      ]
     },
     "metadata": {},
     "output_type": "display_data"
    },
    {
     "data": {
      "text/html": [
       "<pre style=\"white-space:pre;overflow-x:auto;line-height:normal;font-family:Menlo,'DejaVu Sans Mono',consolas,'Courier New',monospace\"></pre>\n"
      ],
      "text/plain": []
     },
     "metadata": {},
     "output_type": "display_data"
    },
    {
     "data": {
      "text/html": [
       "<pre style=\"white-space:pre;overflow-x:auto;line-height:normal;font-family:Menlo,'DejaVu Sans Mono',consolas,'Courier New',monospace\">\n",
       "</pre>\n"
      ],
      "text/plain": [
       "\n"
      ]
     },
     "metadata": {},
     "output_type": "display_data"
    },
    {
     "data": {
      "text/plain": [
       "{'_id': '636297e9833cb24d2d075ae2',\n",
       " 'createdUserId': '625866cb9bb9df2bd5cac99e',\n",
       " 'name': 'paper',\n",
       " 'type': 'documentArray',\n",
       " 'visibility': 'public',\n",
       " 'metaData': {'branding': None,\n",
       "  'summary': [{'description': 'The type of the DocumentArray',\n",
       "    'name': 'Type',\n",
       "    'value': 'DocumentArrayInMemory'},\n",
       "   {'description': 'The length of the DocumentArray',\n",
       "    'name': 'Length',\n",
       "    'value': 0},\n",
       "   {'description': 'Whether all documents are of the same structure, attributes',\n",
       "    'name': 'Homogenous Documents',\n",
       "    'value': False},\n",
       "   {'description': 'The common attributes of all documents',\n",
       "    'name': 'Common Attributes',\n",
       "    'value': None},\n",
       "   {'description': 'The field that contains nested Documents',\n",
       "    'name': 'Has nested Documents in',\n",
       "    'value': []},\n",
       "   {'description': 'Whether all documents are multimodal',\n",
       "    'name': 'Multimodal dataclass',\n",
       "    'value': True},\n",
       "   {'name': 'Subindices', 'value': []},\n",
       "   {'description': 'Quick overview of attributes of all documents',\n",
       "    'name': 'Inspect attributes',\n",
       "    'value': []},\n",
       "   {'description': 'Quick overview of the Document Store',\n",
       "    'name': 'Storage backend',\n",
       "    'value': []}]},\n",
       " 'createdAt': '2022-11-02T16:16:41.139Z',\n",
       " 'updatedAt': '2022-11-02T16:16:41.139Z',\n",
       " 'size': 9}"
      ]
     },
     "execution_count": 5,
     "metadata": {},
     "output_type": "execute_result"
    }
   ],
   "source": [
    "docs.push(\"paper\", show_progress=True)"
   ]
  },
  {
   "cell_type": "code",
   "execution_count": 6,
   "metadata": {},
   "outputs": [
    {
     "data": {
      "text/html": [
       "<pre style=\"white-space:pre;overflow-x:auto;line-height:normal;font-family:Menlo,'DejaVu Sans Mono',consolas,'Courier New',monospace\">╭─────────────── Documents Summary ────────────────╮\n",
       "│                                                  │\n",
       "│   Type                   DocumentArrayInMemory   │\n",
       "│   Length                 <span style=\"color: #008080; text-decoration-color: #008080; font-weight: bold\">0</span>                       │\n",
       "│   Homogenous Documents   <span style=\"color: #ff0000; text-decoration-color: #ff0000; font-style: italic\">False</span>                   │\n",
       "│   Multimodal dataclass   <span style=\"color: #00ff00; text-decoration-color: #00ff00; font-style: italic\">True</span>                    │\n",
       "│                                                  │\n",
       "╰──────────────────────────────────────────────────╯\n",
       "</pre>\n"
      ],
      "text/plain": [
       "╭─────────────── Documents Summary ────────────────╮\n",
       "│                                                  │\n",
       "│   Type                   DocumentArrayInMemory   │\n",
       "│   Length                 \u001b[1;36m0\u001b[0m                       │\n",
       "│   Homogenous Documents   \u001b[3;91mFalse\u001b[0m                   │\n",
       "│   Multimodal dataclass   \u001b[3;92mTrue\u001b[0m                    │\n",
       "│                                                  │\n",
       "╰──────────────────────────────────────────────────╯\n"
      ]
     },
     "metadata": {},
     "output_type": "display_data"
    }
   ],
   "source": [
    "docs.summary()"
   ]
  },
  {
   "cell_type": "code",
   "execution_count": 4,
   "metadata": {},
   "outputs": [
    {
     "data": {
      "text/html": [
       "<pre style=\"white-space:pre;overflow-x:auto;line-height:normal;font-family:Menlo,'DejaVu Sans Mono',consolas,'Courier New',monospace\"><span style=\"color: #808000; text-decoration-color: #808000; font-weight: bold\">UserWarning: install \"ipywidgets\" for Jupyter support</span> <span style=\"color: #000000; text-decoration-color: #000000; font-weight: bold\">(raised from </span>\n",
       "<span style=\"color: #000000; text-decoration-color: #000000; font-weight: bold\">/home/aswin/anaconda3/envs/fast/lib/python3.9/site-packages/rich/live.py:229)</span>\n",
       "</pre>\n"
      ],
      "text/plain": [
       "\u001b[1;33mUserWarning: install \"ipywidgets\" for Jupyter support\u001b[0m \u001b[1;30m(raised from \u001b[0m\n",
       "\u001b[1;30m/home/aswin/anaconda3/envs/fast/lib/python3.9/site-packages/rich/live.py:229)\u001b[0m\n"
      ]
     },
     "metadata": {},
     "output_type": "display_data"
    },
    {
     "name": "stderr",
     "output_type": "stream",
     "text": [
      "\u001b[1;33mDeprecationWarning: invalid escape sequence \\d\u001b[0m \u001b[1;30m(raised from <>:4)\u001b[0m\n",
      "\u001b[1;33mDeprecationWarning: invalid escape sequence \\d\u001b[0m \u001b[1;30m(raised from <>:4)\u001b[0m\n",
      "\u001b[1;33mDeprecationWarning: invalid escape sequence \\d\u001b[0m \u001b[1;30m(raised from /tmp/ipykernel_10116/1478147730.py:4)\u001b[0m\n"
     ]
    },
    {
     "data": {
      "text/html": [
       "<pre style=\"white-space:pre;overflow-x:auto;line-height:normal;font-family:Menlo,'DejaVu Sans Mono',consolas,'Courier New',monospace\">🔐 <span style=\"color: #008000; text-decoration-color: #008000; font-weight: bold\">You are logged in to Jina AI</span> as <span style=\"font-weight: bold\">masapasa</span>. To log out, use <span style=\"color: #7f7f7f; text-decoration-color: #7f7f7f\">jina auth logout</span>.\n",
       "</pre>\n"
      ],
      "text/plain": [
       "🔐 \u001b[1;32mYou are logged in to Jina AI\u001b[0m as \u001b[1mmasapasa\u001b[0m. To log out, use \u001b[2mjina auth logout\u001b[0m.\n"
      ]
     },
     "metadata": {},
     "output_type": "display_data"
    },
    {
     "name": "stdout",
     "output_type": "stream",
     "text": [
      "Collecting pdfplumber==0.5.27\n",
      "  Downloading pdfplumber-0.5.27.tar.gz (44 kB)\n",
      "     ━━━━━━━━━━━━━━━━━━━━━━━━━━━━━━━━━━━━━━━━ 44.5/44.5 kB 2.1 MB/s eta 0:00:00\n",
      "  Preparing metadata (setup.py): started\n",
      "  Preparing metadata (setup.py): finished with status 'done'\n",
      "Collecting PyMuPDF==1.18.5\n",
      "  Downloading PyMuPDF-1.18.5-cp39-cp39-manylinux2010_x86_64.whl (6.3 MB)\n",
      "     ━━━━━━━━━━━━━━━━━━━━━━━━━━━━━━━━━━━━━━━━ 6.3/6.3 MB 27.7 MB/s eta 0:00:00\n",
      "Collecting pdfminer.six==20200517\n",
      "  Downloading pdfminer.six-20200517-py3-none-any.whl (5.6 MB)\n",
      "     ━━━━━━━━━━━━━━━━━━━━━━━━━━━━━━━━━━━━━━━━ 5.6/5.6 MB 32.1 MB/s eta 0:00:00\n",
      "Requirement already satisfied: Pillow>=7.0.0 in /home/aswin/anaconda3/envs/fast/lib/python3.9/site-packages (from pdfplumber==0.5.27) (9.2.0)\n",
      "Requirement already satisfied: Wand in /home/aswin/anaconda3/envs/fast/lib/python3.9/site-packages (from pdfplumber==0.5.27) (0.6.10)\n",
      "Collecting sortedcontainers\n",
      "  Downloading sortedcontainers-2.4.0-py2.py3-none-any.whl (29 kB)\n",
      "Collecting pycryptodome\n",
      "  Downloading pycryptodome-3.15.0-cp35-abi3-manylinux2010_x86_64.whl (2.3 MB)\n",
      "     ━━━━━━━━━━━━━━━━━━━━━━━━━━━━━━━━━━━━━━━━ 2.3/2.3 MB 33.3 MB/s eta 0:00:00\n",
      "Collecting chardet\n",
      "  Downloading chardet-5.0.0-py3-none-any.whl (193 kB)\n",
      "     ━━━━━━━━━━━━━━━━━━━━━━━━━━━━━━━━━━━━━━ 193.6/193.6 kB 16.2 MB/s eta 0:00:00\n",
      "Building wheels for collected packages: pdfplumber\n",
      "  Building wheel for pdfplumber (setup.py): started\n",
      "  Building wheel for pdfplumber (setup.py): finished with status 'done'\n",
      "  Created wheel for pdfplumber: filename=pdfplumber-0.5.27-py3-none-any.whl size=32067 sha256=161b5bba36752060f649142b56726ebba13ee4a0eadeba196745a96be92fa9ca\n",
      "  Stored in directory: /home/aswin/.cache/pip/wheels/9b/9e/4d/6185a0b62827a8e706c23d7268ac100eb2a86665f2d1a9b276\n",
      "Successfully built pdfplumber\n",
      "Installing collected packages: sortedcontainers, PyMuPDF, pycryptodome, chardet, pdfminer.six, pdfplumber\n",
      "  Attempting uninstall: pdfminer.six\n",
      "    Found existing installation: pdfminer.six 20220524\n",
      "    Uninstalling pdfminer.six-20220524:\n",
      "      Successfully uninstalled pdfminer.six-20220524\n",
      "  Attempting uninstall: pdfplumber\n",
      "    Found existing installation: pdfplumber 0.7.5\n",
      "    Uninstalling pdfplumber-0.7.5:\n",
      "      Successfully uninstalled pdfplumber-0.7.5\n",
      "Successfully installed PyMuPDF-1.18.5 chardet-5.0.0 pdfminer.six-20200517 pdfplumber-0.5.27 pycryptodome-3.15.0 sortedcontainers-2.4.0\n"
     ]
    },
    {
     "data": {
      "text/html": [
       "<pre style=\"white-space:pre;overflow-x:auto;line-height:normal;font-family:Menlo,'DejaVu Sans Mono',consolas,'Courier New',monospace\"></pre>\n"
      ],
      "text/plain": []
     },
     "metadata": {},
     "output_type": "display_data"
    },
    {
     "data": {
      "text/html": [
       "<pre style=\"white-space:pre;overflow-x:auto;line-height:normal;font-family:Menlo,'DejaVu Sans Mono',consolas,'Courier New',monospace\"></pre>\n"
      ],
      "text/plain": []
     },
     "metadata": {},
     "output_type": "display_data"
    },
    {
     "data": {
      "text/html": [
       "<pre style=\"white-space:pre;overflow-x:auto;line-height:normal;font-family:Menlo,'DejaVu Sans Mono',consolas,'Courier New',monospace\">Calling _send_request_with_retry failed, retry attempt 1/3. Error: \n",
       "Exception('{\"data\":null,\"code\":404,\"name\":\"RequestedEntityNotFoundError\",\"status\":40403,\"message\":\"RequestedEntityN\n",
       "otFoundError: Executor(ChunkSentencizer) was not found in the \n",
       "system.\",\"readableMessage\":\"RequestedEntityNotFoundError: Executor(ChunkSentencizer) was not found in the \n",
       "system.\"}')\n",
       "</pre>\n"
      ],
      "text/plain": [
       "Calling _send_request_with_retry failed, retry attempt 1/3. Error: \n",
       "Exception('{\"data\":null,\"code\":404,\"name\":\"RequestedEntityNotFoundError\",\"status\":40403,\"message\":\"RequestedEntityN\n",
       "otFoundError: Executor(ChunkSentencizer) was not found in the \n",
       "system.\",\"readableMessage\":\"RequestedEntityNotFoundError: Executor(ChunkSentencizer) was not found in the \n",
       "system.\"}')\n"
      ]
     },
     "metadata": {},
     "output_type": "display_data"
    },
    {
     "data": {
      "text/html": [
       "<pre style=\"white-space:pre;overflow-x:auto;line-height:normal;font-family:Menlo,'DejaVu Sans Mono',consolas,'Courier New',monospace\">Calling _send_request_with_retry failed, retry attempt 2/3. Error: \n",
       "Exception('{\"data\":null,\"code\":404,\"name\":\"RequestedEntityNotFoundError\",\"status\":40403,\"message\":\"RequestedEntityN\n",
       "otFoundError: Executor(ChunkSentencizer) was not found in the \n",
       "system.\",\"readableMessage\":\"RequestedEntityNotFoundError: Executor(ChunkSentencizer) was not found in the \n",
       "system.\"}')\n",
       "</pre>\n"
      ],
      "text/plain": [
       "Calling _send_request_with_retry failed, retry attempt 2/3. Error: \n",
       "Exception('{\"data\":null,\"code\":404,\"name\":\"RequestedEntityNotFoundError\",\"status\":40403,\"message\":\"RequestedEntityN\n",
       "otFoundError: Executor(ChunkSentencizer) was not found in the \n",
       "system.\",\"readableMessage\":\"RequestedEntityNotFoundError: Executor(ChunkSentencizer) was not found in the \n",
       "system.\"}')\n"
      ]
     },
     "metadata": {},
     "output_type": "display_data"
    },
    {
     "data": {
      "text/html": [
       "<pre style=\"white-space:pre;overflow-x:auto;line-height:normal;font-family:Menlo,'DejaVu Sans Mono',consolas,'Courier New',monospace\">Calling _send_request_with_retry failed, retry attempt 3/3. Error: \n",
       "Exception('{\"data\":null,\"code\":404,\"name\":\"RequestedEntityNotFoundError\",\"status\":40403,\"message\":\"RequestedEntityN\n",
       "otFoundError: Executor(ChunkSentencizer) was not found in the \n",
       "system.\",\"readableMessage\":\"RequestedEntityNotFoundError: Executor(ChunkSentencizer) was not found in the \n",
       "system.\"}')\n",
       "</pre>\n"
      ],
      "text/plain": [
       "Calling _send_request_with_retry failed, retry attempt 3/3. Error: \n",
       "Exception('{\"data\":null,\"code\":404,\"name\":\"RequestedEntityNotFoundError\",\"status\":40403,\"message\":\"RequestedEntityN\n",
       "otFoundError: Executor(ChunkSentencizer) was not found in the \n",
       "system.\",\"readableMessage\":\"RequestedEntityNotFoundError: Executor(ChunkSentencizer) was not found in the \n",
       "system.\"}')\n"
      ]
     },
     "metadata": {},
     "output_type": "display_data"
    },
    {
     "data": {
      "text/html": [
       "<pre style=\"white-space:pre;overflow-x:auto;line-height:normal;font-family:Menlo,'DejaVu Sans Mono',consolas,'Courier New',monospace\"></pre>\n"
      ],
      "text/plain": []
     },
     "metadata": {},
     "output_type": "display_data"
    },
    {
     "name": "stderr",
     "output_type": "stream",
     "text": [
      "\u001b[1;33mDeprecationWarning: invalid escape sequence \\d\u001b[0m \u001b[1;30m(raised from /tmp/ipykernel_10116/1478147730.py:4)\u001b[0m\n"
     ]
    },
    {
     "ename": "Exception",
     "evalue": "{\"data\":null,\"code\":404,\"name\":\"RequestedEntityNotFoundError\",\"status\":40403,\"message\":\"RequestedEntityNotFoundError: Executor(ChunkSentencizer) was not found in the system.\",\"readableMessage\":\"RequestedEntityNotFoundError: Executor(ChunkSentencizer) was not found in the system.\"}",
     "output_type": "error",
     "traceback": [
      "\u001b[0;31m---------------------------------------------------------------------------\u001b[0m",
      "\u001b[0;31mException\u001b[0m                                 Traceback (most recent call last)",
      "Cell \u001b[0;32mIn [4], line 13\u001b[0m\n\u001b[1;32m      4\u001b[0m docs \u001b[39m=\u001b[39m DocumentArray\u001b[39m.\u001b[39mfrom_files(\u001b[39m\"\u001b[39m\u001b[39mC:\u001b[39m\u001b[39m\\\u001b[39m\u001b[39mdata\u001b[39m\u001b[39m\\a\u001b[39;00m\u001b[39mrticles\u001b[39m\u001b[39m\\\u001b[39m\u001b[39mdreambooth_ruiz_google_2022.pdf\u001b[39m\u001b[39m\"\u001b[39m, recursive\u001b[39m=\u001b[39m\u001b[39mTrue\u001b[39;00m)\n\u001b[1;32m      6\u001b[0m flow \u001b[39m=\u001b[39m (\n\u001b[1;32m      7\u001b[0m     Flow()\n\u001b[1;32m      8\u001b[0m     \u001b[39m.\u001b[39madd(uses\u001b[39m=\u001b[39m\u001b[39m\"\u001b[39m\u001b[39mjinahub://PDFSegmenter\u001b[39m\u001b[39m\"\u001b[39m, install_requirements\u001b[39m=\u001b[39m\u001b[39mTrue\u001b[39;00m, name\u001b[39m=\u001b[39m\u001b[39m\"\u001b[39m\u001b[39msegmenter\u001b[39m\u001b[39m\"\u001b[39m)\n\u001b[1;32m      9\u001b[0m     \u001b[39m.\u001b[39madd(uses\u001b[39m=\u001b[39m\u001b[39m\"\u001b[39m\u001b[39mjinahub://ChunkSentencizer\u001b[39m\u001b[39m\"\u001b[39m, name\u001b[39m=\u001b[39m\u001b[39m\"\u001b[39m\u001b[39mchunk_sentencizer\u001b[39m\u001b[39m\"\u001b[39m)\n\u001b[1;32m     10\u001b[0m     \u001b[39m.\u001b[39madd(uses\u001b[39m=\u001b[39m\u001b[39m\"\u001b[39m\u001b[39mjinahub://ImageNormalizer\u001b[39m\u001b[39m\"\u001b[39m, name\u001b[39m=\u001b[39m\u001b[39m\"\u001b[39m\u001b[39mimage_normalizer\u001b[39m\u001b[39m\"\u001b[39m)\n\u001b[1;32m     11\u001b[0m )\n\u001b[0;32m---> 13\u001b[0m \u001b[39mwith\u001b[39;00m flow:\n\u001b[1;32m     14\u001b[0m   indexed_docs \u001b[39m=\u001b[39m flow\u001b[39m.\u001b[39mindex(docs)\n",
      "File \u001b[0;32m~/anaconda3/envs/fast/lib/python3.9/site-packages/jina/orchestrate/flow/base.py:1556\u001b[0m, in \u001b[0;36mFlow.__enter__\u001b[0;34m(self)\u001b[0m\n\u001b[1;32m   1554\u001b[0m \u001b[39mdef\u001b[39;00m \u001b[39m__enter__\u001b[39m(\u001b[39mself\u001b[39m):\n\u001b[1;32m   1555\u001b[0m     \u001b[39mwith\u001b[39;00m CatchAllCleanupContextManager(\u001b[39mself\u001b[39m):\n\u001b[0;32m-> 1556\u001b[0m         \u001b[39mreturn\u001b[39;00m \u001b[39mself\u001b[39;49m\u001b[39m.\u001b[39;49mstart()\n",
      "File \u001b[0;32m~/anaconda3/envs/fast/lib/python3.9/site-packages/jina/orchestrate/flow/builder.py:33\u001b[0m, in \u001b[0;36mallowed_levels.<locals>.__build_level.<locals>.arg_wrapper\u001b[0;34m(self, *args, **kwargs)\u001b[0m\n\u001b[1;32m     31\u001b[0m \u001b[39mif\u001b[39;00m \u001b[39mhasattr\u001b[39m(\u001b[39mself\u001b[39m, \u001b[39m'\u001b[39m\u001b[39m_build_level\u001b[39m\u001b[39m'\u001b[39m):\n\u001b[1;32m     32\u001b[0m     \u001b[39mif\u001b[39;00m \u001b[39mself\u001b[39m\u001b[39m.\u001b[39m_build_level \u001b[39min\u001b[39;00m levels:\n\u001b[0;32m---> 33\u001b[0m         \u001b[39mreturn\u001b[39;00m func(\u001b[39mself\u001b[39;49m, \u001b[39m*\u001b[39;49margs, \u001b[39m*\u001b[39;49m\u001b[39m*\u001b[39;49mkwargs)\n\u001b[1;32m     34\u001b[0m     \u001b[39melse\u001b[39;00m:\n\u001b[1;32m     35\u001b[0m         \u001b[39mraise\u001b[39;00m FlowBuildLevelError(\n\u001b[1;32m     36\u001b[0m             \u001b[39mf\u001b[39m\u001b[39m'\u001b[39m\u001b[39mbuild_level check failed for \u001b[39m\u001b[39m{\u001b[39;00mfunc\u001b[39m!r}\u001b[39;00m\u001b[39m, required level: \u001b[39m\u001b[39m{\u001b[39;00mlevels\u001b[39m}\u001b[39;00m\u001b[39m, actual level: \u001b[39m\u001b[39m{\u001b[39;00m\u001b[39mself\u001b[39m\u001b[39m.\u001b[39m_build_level\u001b[39m}\u001b[39;00m\u001b[39m'\u001b[39m\n\u001b[1;32m     37\u001b[0m         )\n",
      "File \u001b[0;32m~/anaconda3/envs/fast/lib/python3.9/site-packages/jina/orchestrate/flow/base.py:1618\u001b[0m, in \u001b[0;36mFlow.start\u001b[0;34m(self)\u001b[0m\n\u001b[1;32m   1616\u001b[0m \u001b[39mfor\u001b[39;00m depl_name, deployment \u001b[39min\u001b[39;00m \u001b[39mself\u001b[39m:\n\u001b[1;32m   1617\u001b[0m     \u001b[39mif\u001b[39;00m \u001b[39mnot\u001b[39;00m deployment\u001b[39m.\u001b[39mexternal:\n\u001b[0;32m-> 1618\u001b[0m         \u001b[39mself\u001b[39;49m\u001b[39m.\u001b[39;49menter_context(deployment)\n\u001b[1;32m   1620\u001b[0m \u001b[39mself\u001b[39m\u001b[39m.\u001b[39m_wait_until_all_ready()\n\u001b[1;32m   1622\u001b[0m \u001b[39mself\u001b[39m\u001b[39m.\u001b[39m_build_level \u001b[39m=\u001b[39m FlowBuildLevel\u001b[39m.\u001b[39mRUNNING\n",
      "File \u001b[0;32m~/anaconda3/envs/fast/lib/python3.9/contextlib.py:448\u001b[0m, in \u001b[0;36m_BaseExitStack.enter_context\u001b[0;34m(self, cm)\u001b[0m\n\u001b[1;32m    446\u001b[0m _cm_type \u001b[39m=\u001b[39m \u001b[39mtype\u001b[39m(cm)\n\u001b[1;32m    447\u001b[0m _exit \u001b[39m=\u001b[39m _cm_type\u001b[39m.\u001b[39m\u001b[39m__exit__\u001b[39m\n\u001b[0;32m--> 448\u001b[0m result \u001b[39m=\u001b[39m _cm_type\u001b[39m.\u001b[39;49m\u001b[39m__enter__\u001b[39;49m(cm)\n\u001b[1;32m    449\u001b[0m \u001b[39mself\u001b[39m\u001b[39m.\u001b[39m_push_cm_exit(cm, _exit)\n\u001b[1;32m    450\u001b[0m \u001b[39mreturn\u001b[39;00m result\n",
      "File \u001b[0;32m~/anaconda3/envs/fast/lib/python3.9/site-packages/jina/orchestrate/deployments/__init__.py:121\u001b[0m, in \u001b[0;36mBaseDeployment.__enter__\u001b[0;34m(self)\u001b[0m\n\u001b[1;32m    119\u001b[0m \u001b[39mdef\u001b[39;00m \u001b[39m__enter__\u001b[39m(\u001b[39mself\u001b[39m) \u001b[39m-\u001b[39m\u001b[39m>\u001b[39m \u001b[39m'\u001b[39m\u001b[39mBaseDeployment\u001b[39m\u001b[39m'\u001b[39m:\n\u001b[1;32m    120\u001b[0m     \u001b[39mwith\u001b[39;00m CatchAllCleanupContextManager(\u001b[39mself\u001b[39m):\n\u001b[0;32m--> 121\u001b[0m         \u001b[39mreturn\u001b[39;00m \u001b[39mself\u001b[39;49m\u001b[39m.\u001b[39;49mstart()\n",
      "File \u001b[0;32m~/anaconda3/envs/fast/lib/python3.9/site-packages/jina/orchestrate/deployments/__init__.py:658\u001b[0m, in \u001b[0;36mDeployment.start\u001b[0;34m(self)\u001b[0m\n\u001b[1;32m    652\u001b[0m \u001b[39mfor\u001b[39;00m shard_id \u001b[39min\u001b[39;00m \u001b[39mself\u001b[39m\u001b[39m.\u001b[39mpod_args[\u001b[39m'\u001b[39m\u001b[39mpods\u001b[39m\u001b[39m'\u001b[39m]:\n\u001b[1;32m    653\u001b[0m     \u001b[39mself\u001b[39m\u001b[39m.\u001b[39mshards[shard_id] \u001b[39m=\u001b[39m \u001b[39mself\u001b[39m\u001b[39m.\u001b[39m_ReplicaSet(\n\u001b[1;32m    654\u001b[0m         \u001b[39mself\u001b[39m\u001b[39m.\u001b[39margs,\n\u001b[1;32m    655\u001b[0m         \u001b[39mself\u001b[39m\u001b[39m.\u001b[39mpod_args[\u001b[39m'\u001b[39m\u001b[39mpods\u001b[39m\u001b[39m'\u001b[39m][shard_id],\n\u001b[1;32m    656\u001b[0m         \u001b[39mself\u001b[39m\u001b[39m.\u001b[39mhead_pod,\n\u001b[1;32m    657\u001b[0m     )\n\u001b[0;32m--> 658\u001b[0m     \u001b[39mself\u001b[39;49m\u001b[39m.\u001b[39;49menter_context(\u001b[39mself\u001b[39;49m\u001b[39m.\u001b[39;49mshards[shard_id])\n\u001b[1;32m    660\u001b[0m \u001b[39mreturn\u001b[39;00m \u001b[39mself\u001b[39m\n",
      "File \u001b[0;32m~/anaconda3/envs/fast/lib/python3.9/contextlib.py:448\u001b[0m, in \u001b[0;36m_BaseExitStack.enter_context\u001b[0;34m(self, cm)\u001b[0m\n\u001b[1;32m    446\u001b[0m _cm_type \u001b[39m=\u001b[39m \u001b[39mtype\u001b[39m(cm)\n\u001b[1;32m    447\u001b[0m _exit \u001b[39m=\u001b[39m _cm_type\u001b[39m.\u001b[39m\u001b[39m__exit__\u001b[39m\n\u001b[0;32m--> 448\u001b[0m result \u001b[39m=\u001b[39m _cm_type\u001b[39m.\u001b[39;49m\u001b[39m__enter__\u001b[39;49m(cm)\n\u001b[1;32m    449\u001b[0m \u001b[39mself\u001b[39m\u001b[39m.\u001b[39m_push_cm_exit(cm, _exit)\n\u001b[1;32m    450\u001b[0m \u001b[39mreturn\u001b[39;00m result\n",
      "File \u001b[0;32m~/anaconda3/envs/fast/lib/python3.9/site-packages/jina/orchestrate/deployments/__init__.py:232\u001b[0m, in \u001b[0;36mDeployment._ReplicaSet.__enter__\u001b[0;34m(self)\u001b[0m\n\u001b[1;32m    230\u001b[0m     \u001b[39mif\u001b[39;00m \u001b[39mgetattr\u001b[39m(\u001b[39mself\u001b[39m\u001b[39m.\u001b[39mdeployment_args, \u001b[39m'\u001b[39m\u001b[39mnoblock_on_start\u001b[39m\u001b[39m'\u001b[39m, \u001b[39mFalse\u001b[39;00m):\n\u001b[1;32m    231\u001b[0m         _args\u001b[39m.\u001b[39mnoblock_on_start \u001b[39m=\u001b[39m \u001b[39mTrue\u001b[39;00m\n\u001b[0;32m--> 232\u001b[0m     \u001b[39mself\u001b[39m\u001b[39m.\u001b[39m_pods\u001b[39m.\u001b[39mappend(PodFactory\u001b[39m.\u001b[39;49mbuild_pod(_args)\u001b[39m.\u001b[39mstart())\n\u001b[1;32m    233\u001b[0m \u001b[39mreturn\u001b[39;00m \u001b[39mself\u001b[39m\n",
      "File \u001b[0;32m~/anaconda3/envs/fast/lib/python3.9/site-packages/jina/orchestrate/pods/factory.py:36\u001b[0m, in \u001b[0;36mPodFactory.build_pod\u001b[0;34m(args)\u001b[0m\n\u001b[1;32m     34\u001b[0m     _hub_args\u001b[39m.\u001b[39muri \u001b[39m=\u001b[39m args\u001b[39m.\u001b[39muses\n\u001b[1;32m     35\u001b[0m     _hub_args\u001b[39m.\u001b[39mno_usage \u001b[39m=\u001b[39m \u001b[39mTrue\u001b[39;00m\n\u001b[0;32m---> 36\u001b[0m     cargs\u001b[39m.\u001b[39muses \u001b[39m=\u001b[39m HubIO(_hub_args)\u001b[39m.\u001b[39;49mpull()\n\u001b[1;32m     38\u001b[0m \u001b[39mif\u001b[39;00m (\n\u001b[1;32m     39\u001b[0m     cargs\u001b[39m.\u001b[39mpod_role \u001b[39m!=\u001b[39m PodRoleType\u001b[39m.\u001b[39mHEAD\n\u001b[1;32m     40\u001b[0m     \u001b[39mand\u001b[39;00m cargs\u001b[39m.\u001b[39muses\n\u001b[1;32m     41\u001b[0m     \u001b[39mand\u001b[39;00m cargs\u001b[39m.\u001b[39muses\u001b[39m.\u001b[39mstartswith(\u001b[39m'\u001b[39m\u001b[39mdocker://\u001b[39m\u001b[39m'\u001b[39m)\n\u001b[1;32m     42\u001b[0m ):\n\u001b[1;32m     43\u001b[0m     \u001b[39mreturn\u001b[39;00m ContainerPod(cargs)\n",
      "File \u001b[0;32m~/anaconda3/envs/fast/lib/python3.9/site-packages/hubble/executor/hubio.py:1261\u001b[0m, in \u001b[0;36mHubIO.pull\u001b[0;34m(self)\u001b[0m\n\u001b[1;32m   1258\u001b[0m image_required \u001b[39m=\u001b[39m scheme \u001b[39m==\u001b[39m \u001b[39m'\u001b[39m\u001b[39mjinahub+docker\u001b[39m\u001b[39m'\u001b[39m\n\u001b[1;32m   1260\u001b[0m st\u001b[39m.\u001b[39mupdate(\u001b[39mf\u001b[39m\u001b[39m'\u001b[39m\u001b[39mFetching [bold]\u001b[39m\u001b[39m{\u001b[39;00mname\u001b[39m}\u001b[39;00m\u001b[39m[/bold] from Jina Hub ...\u001b[39m\u001b[39m'\u001b[39m)\n\u001b[0;32m-> 1261\u001b[0m executor, from_cache \u001b[39m=\u001b[39m HubIO\u001b[39m.\u001b[39;49mfetch_meta(\n\u001b[1;32m   1262\u001b[0m     name,\n\u001b[1;32m   1263\u001b[0m     tag,\n\u001b[1;32m   1264\u001b[0m     image_required,\n\u001b[1;32m   1265\u001b[0m     secret\u001b[39m=\u001b[39;49msecret,\n\u001b[1;32m   1266\u001b[0m     force\u001b[39m=\u001b[39;49mneed_pull,\n\u001b[1;32m   1267\u001b[0m )\n\u001b[1;32m   1269\u001b[0m build_env \u001b[39m=\u001b[39m executor\u001b[39m.\u001b[39mbuild_env\n\u001b[1;32m   1271\u001b[0m presented_id \u001b[39m=\u001b[39m executor\u001b[39m.\u001b[39mname \u001b[39mif\u001b[39;00m executor\u001b[39m.\u001b[39mname \u001b[39melse\u001b[39;00m executor\u001b[39m.\u001b[39muuid\n",
      "File \u001b[0;32m~/anaconda3/envs/fast/lib/python3.9/site-packages/hubble/executor/helper.py:564\u001b[0m, in \u001b[0;36mdisk_cache_offline.<locals>.decorator.<locals>.wrapper\u001b[0;34m(*args, **kwargs)\u001b[0m\n\u001b[1;32m    561\u001b[0m     \u001b[39mif\u001b[39;00m call_hash \u001b[39min\u001b[39;00m dict_db \u001b[39mand\u001b[39;00m \u001b[39mnot\u001b[39;00m kwargs\u001b[39m.\u001b[39mget(\u001b[39m'\u001b[39m\u001b[39mforce\u001b[39m\u001b[39m'\u001b[39m, \u001b[39mFalse\u001b[39;00m):\n\u001b[1;32m    562\u001b[0m         \u001b[39mreturn\u001b[39;00m dict_db[call_hash], \u001b[39mTrue\u001b[39;00m\n\u001b[0;32m--> 564\u001b[0m     result \u001b[39m=\u001b[39m func(\u001b[39m*\u001b[39;49margs, \u001b[39m*\u001b[39;49m\u001b[39m*\u001b[39;49mkwargs)\n\u001b[1;32m    565\u001b[0m     dict_db[call_hash] \u001b[39m=\u001b[39m result\n\u001b[1;32m    566\u001b[0m \u001b[39mexcept\u001b[39;00m urllib\u001b[39m.\u001b[39merror\u001b[39m.\u001b[39mURLError:\n",
      "File \u001b[0;32m~/anaconda3/envs/fast/lib/python3.9/site-packages/hubble/executor/hubio.py:1088\u001b[0m, in \u001b[0;36mHubIO.fetch_meta\u001b[0;34m(name, tag, image_required, rebuild_image, secret, force)\u001b[0m\n\u001b[1;32m   1084\u001b[0m     payload[\u001b[39m'\u001b[39m\u001b[39mtag\u001b[39m\u001b[39m'\u001b[39m] \u001b[39m=\u001b[39m tag\n\u001b[1;32m   1086\u001b[0m req_header \u001b[39m=\u001b[39m get_request_header()\n\u001b[0;32m-> 1088\u001b[0m resp \u001b[39m=\u001b[39m _send_request_with_retry(pull_url, json\u001b[39m=\u001b[39;49mpayload, headers\u001b[39m=\u001b[39;49mreq_header)\n\u001b[1;32m   1089\u001b[0m resp \u001b[39m=\u001b[39m resp\u001b[39m.\u001b[39mjson()[\u001b[39m'\u001b[39m\u001b[39mdata\u001b[39m\u001b[39m'\u001b[39m]\n\u001b[1;32m   1091\u001b[0m images \u001b[39m=\u001b[39m resp[\u001b[39m'\u001b[39m\u001b[39mpackage\u001b[39m\u001b[39m'\u001b[39m]\u001b[39m.\u001b[39mget(\u001b[39m'\u001b[39m\u001b[39mcontainers\u001b[39m\u001b[39m'\u001b[39m, [])\n",
      "File \u001b[0;32m~/anaconda3/envs/fast/lib/python3.9/site-packages/hubble/executor/helper.py:115\u001b[0m, in \u001b[0;36mretry.<locals>.decorator.<locals>.wrapper\u001b[0;34m(*args, **kwargs)\u001b[0m\n\u001b[1;32m    113\u001b[0m \u001b[39mfor\u001b[39;00m i \u001b[39min\u001b[39;00m \u001b[39mrange\u001b[39m(num_retry):\n\u001b[1;32m    114\u001b[0m     \u001b[39mtry\u001b[39;00m:\n\u001b[0;32m--> 115\u001b[0m         \u001b[39mreturn\u001b[39;00m func(\u001b[39m*\u001b[39;49margs, \u001b[39m*\u001b[39;49m\u001b[39m*\u001b[39;49mkwargs)\n\u001b[1;32m    116\u001b[0m     \u001b[39mexcept\u001b[39;00m \u001b[39mException\u001b[39;00m \u001b[39mas\u001b[39;00m e:\n\u001b[1;32m    117\u001b[0m         default_logger\u001b[39m.\u001b[39mwarning(\n\u001b[1;32m    118\u001b[0m             message\u001b[39m.\u001b[39mformat(\n\u001b[1;32m    119\u001b[0m                 func_name\u001b[39m=\u001b[39mfunc\u001b[39m.\u001b[39m\u001b[39m__name__\u001b[39m,\n\u001b[0;32m   (...)\u001b[0m\n\u001b[1;32m    123\u001b[0m             )\n\u001b[1;32m    124\u001b[0m         )\n",
      "File \u001b[0;32m~/anaconda3/envs/fast/lib/python3.9/site-packages/hubble/executor/hubio.py:1071\u001b[0m, in \u001b[0;36mHubIO.fetch_meta.<locals>._send_request_with_retry\u001b[0;34m(url, **kwargs)\u001b[0m\n\u001b[1;32m   1069\u001b[0m \u001b[39mif\u001b[39;00m resp\u001b[39m.\u001b[39mstatus_code \u001b[39m!=\u001b[39m \u001b[39m200\u001b[39m:\n\u001b[1;32m   1070\u001b[0m     \u001b[39mif\u001b[39;00m resp\u001b[39m.\u001b[39mtext:\n\u001b[0;32m-> 1071\u001b[0m         \u001b[39mraise\u001b[39;00m \u001b[39mException\u001b[39;00m(resp\u001b[39m.\u001b[39mtext)\n\u001b[1;32m   1072\u001b[0m     resp\u001b[39m.\u001b[39mraise_for_status()\n\u001b[1;32m   1074\u001b[0m \u001b[39mreturn\u001b[39;00m resp\n",
      "\u001b[0;31mException\u001b[0m: {\"data\":null,\"code\":404,\"name\":\"RequestedEntityNotFoundError\",\"status\":40403,\"message\":\"RequestedEntityNotFoundError: Executor(ChunkSentencizer) was not found in the system.\",\"readableMessage\":\"RequestedEntityNotFoundError: Executor(ChunkSentencizer) was not found in the system.\"}"
     ]
    }
   ],
   "source": [
    "from docarray import DocumentArray\n",
    "from jina import Flow\n",
    "\n",
    "docs = DocumentArray.from_files(\"C:\\data\\articles\\dreambooth_ruiz_google_2022.pdf\", recursive=True)\n",
    "\n",
    "flow = (\n",
    "    Flow()\n",
    "    .add(uses=\"jinahub://PDFSegmenter\", install_requirements=True, name=\"segmenter\")\n",
    "    .add(uses=\"jinahub://ChunkSentencizer\", name=\"chunk_sentencizer\")\n",
    "    .add(uses=\"jinahub://ImageNormalizer\", name=\"image_normalizer\")\n",
    ")\n",
    "\n",
    "with flow:\n",
    "  indexed_docs = flow.index(docs)"
   ]
  }
 ],
 "metadata": {
  "kernelspec": {
   "display_name": "Python 3.9.13 ('fast')",
   "language": "python",
   "name": "python3"
  },
  "language_info": {
   "codemirror_mode": {
    "name": "ipython",
    "version": 3
   },
   "file_extension": ".py",
   "mimetype": "text/x-python",
   "name": "python",
   "nbconvert_exporter": "python",
   "pygments_lexer": "ipython3",
   "version": "3.9.13"
  },
  "orig_nbformat": 4,
  "vscode": {
   "interpreter": {
    "hash": "91cf809ebeac7834cab322c0e9393d8c235d5aedcc8b94bfe1d55e7236ca8197"
   }
  }
 },
 "nbformat": 4,
 "nbformat_minor": 2
}
